{
 "cells": [
  {
   "cell_type": "markdown",
   "metadata": {},
   "source": [
    "# 暗号技術入門\n",
    "\n",
    "## 古典暗号を C# で実装してみる\n",
    "\n",
    "### 準備\n",
    "\n",
    "C# のコードを追加します。"
   ]
  },
  {
   "cell_type": "code",
   "execution_count": 1,
   "metadata": {},
   "outputs": [
    {
     "data": {
      "text/html": [
       "\r\n",
       "<div>\r\n",
       "    <div id='dotnet-interactive-this-cell-25476.5675e3372237462582fa54c11ec4b064' style='display: none'>\r\n",
       "        The below script needs to be able to find the current output cell; this is an easy method to get it.\r\n",
       "    </div>\r\n",
       "    <script type='text/javascript'>\r\n",
       "// ensure `require` is available globally\r\n",
       "if (typeof require !== typeof Function || typeof require.config !== typeof Function) {\r\n",
       "    let require_script = document.createElement('script');\r\n",
       "    require_script.setAttribute('src', 'https://cdnjs.cloudflare.com/ajax/libs/require.js/2.3.6/require.min.js');\r\n",
       "    require_script.setAttribute('type', 'text/javascript');\r\n",
       "    require_script.onload = function () {\r\n",
       "        loadDotnetInteractiveApi();\r\n",
       "    };\r\n",
       "\r\n",
       "    document.getElementsByTagName('head')[0].appendChild(require_script);\r\n",
       "}\r\n",
       "else {\r\n",
       "    loadDotnetInteractiveApi();\r\n",
       "}\r\n",
       "\r\n",
       "async function probeAddresses(probingAddresses) {\r\n",
       "    function timeout(ms, promise) {\r\n",
       "        return new Promise(function (resolve, reject) {\r\n",
       "            setTimeout(function () {\r\n",
       "                reject(new Error('timeout'))\r\n",
       "            }, ms)\r\n",
       "            promise.then(resolve, reject)\r\n",
       "        })\r\n",
       "    }\r\n",
       "\r\n",
       "    if (Array.isArray(probingAddresses)) {\r\n",
       "        for (let i = 0; i < probingAddresses.length; i++) {\r\n",
       "\r\n",
       "            let rootUrl = probingAddresses[i];\r\n",
       "\r\n",
       "            if (!rootUrl.endsWith('/')) {\r\n",
       "                rootUrl = `${rootUrl}/`;\r\n",
       "            }\r\n",
       "\r\n",
       "            try {\r\n",
       "                let response = await timeout(1000, fetch(`${rootUrl}discovery`, {\r\n",
       "                    method: 'POST',\r\n",
       "                    cache: 'no-cache',\r\n",
       "                    mode: 'cors',\r\n",
       "                    timeout: 1000,\r\n",
       "                    headers: {\r\n",
       "                        'Content-Type': 'text/plain'\r\n",
       "                    },\r\n",
       "                    body: probingAddresses[i]\r\n",
       "                }));\r\n",
       "\r\n",
       "                if (response.status == 200) {\r\n",
       "                    return rootUrl;\r\n",
       "                }\r\n",
       "            }\r\n",
       "            catch (e) { }\r\n",
       "        }\r\n",
       "    }\r\n",
       "}\r\n",
       "\r\n",
       "function loadDotnetInteractiveApi() {\r\n",
       "    probeAddresses([\"http://172.31.112.1:1001/\", \"http://192.168.56.1:1001/\", \"http://192.168.1.4:1001/\", \"http://100.64.19.170:1001/\", \"http://172.29.96.1:1001/\", \"http://127.0.0.1:1001/\"])\r\n",
       "        .then((root) => {\r\n",
       "            // use probing to find host url and api resources\r\n",
       "            // load interactive helpers and language services\r\n",
       "            let dotnetInteractiveRequire = require.config({\r\n",
       "                context: '25476.5675e3372237462582fa54c11ec4b064',\r\n",
       "                paths: {\r\n",
       "                    'dotnet-interactive': `${root}resources`\r\n",
       "                }\r\n",
       "            }) || require;\r\n",
       "\r\n",
       "            let dotnetInteractiveExtensionsRequire = require.config({\r\n",
       "                context: '25476.5675e3372237462582fa54c11ec4b064',\r\n",
       "                paths: {\r\n",
       "                    'dotnet-interactive-extensions': `${root}extensions`\r\n",
       "                }\r\n",
       "            }) || require;\r\n",
       "\r\n",
       "            if (!window.dotnetInteractiveRequire) {\r\n",
       "                window.dotnetInteractiveRequire = dotnetInteractiveRequire;\r\n",
       "            }\r\n",
       "\r\n",
       "            if (!window.dotnetInteractiveExtensionsRequire) {\r\n",
       "                window.dotnetInteractiveExtensionsRequire = dotnetInteractiveExtensionsRequire;\r\n",
       "            }\r\n",
       "\r\n",
       "            window.getExtensionRequire = function(extensionName, extensionCacheBuster) {\r\n",
       "                let paths = {};\r\n",
       "                paths[extensionName] = `${root}extensions/${extensionName}/resources/`;\r\n",
       "                \r\n",
       "                let internalRequire = require.config({\r\n",
       "                    context: extensionCacheBuster,\r\n",
       "                    paths: paths,\r\n",
       "                    urlArgs: `cacheBuster=${extensionCacheBuster}`\r\n",
       "                    }) || require;\r\n",
       "\r\n",
       "                return internalRequire\r\n",
       "            };\r\n",
       "        \r\n",
       "            dotnetInteractiveRequire([\r\n",
       "                    'dotnet-interactive/dotnet-interactive'\r\n",
       "                ],\r\n",
       "                function (dotnet) {\r\n",
       "                    dotnet.init(window);\r\n",
       "                },\r\n",
       "                function (error) {\r\n",
       "                    console.log(error);\r\n",
       "                }\r\n",
       "            );\r\n",
       "        })\r\n",
       "        .catch(error => {console.log(error);});\r\n",
       "    }\r\n",
       "    </script>\r\n",
       "</div>"
      ]
     },
     "metadata": {},
     "output_type": "display_data"
    },
    {
     "name": "stdout",
     "output_type": "stream",
     "text": [
      "ここから始めます\n"
     ]
    }
   ],
   "source": [
    "Console.WriteLine(\"ここから始めます\")"
   ]
  },
  {
   "cell_type": "markdown",
   "metadata": {},
   "source": [
    "## 2-1 古典暗号の概要\n",
    "\n",
    "平文を暗号空間に 1:1 対応させる\n",
    "\n",
    "### 文字の符号化\n",
    "\n",
    "空白文字や記号をどう暗号化する？\n",
    "\n",
    "コンピューターの世界では文字は共通の符号化規則がある。\n",
    "\n",
    "例: ASCII など\n",
    "\n",
    "### Tips 日本語の暗号?\n",
    "\n",
    "日本語を符号化する。様々な符号化方式があるが、UTF8 が現在ではデファクト。"
   ]
  },
  {
   "cell_type": "code",
   "execution_count": 9,
   "metadata": {},
   "outputs": [
    {
     "name": "stdout",
     "output_type": "stream",
     "text": [
      "ここから始めます\n"
     ]
    }
   ],
   "source": [
    "var str = \"ここから始めます\";\n",
    "Console.WriteLine(str);"
   ]
  },
  {
   "cell_type": "code",
   "execution_count": 125,
   "metadata": {},
   "outputs": [
    {
     "name": "stdout",
     "output_type": "stream",
     "text": [
      "227\n",
      "129\n",
      "147\n",
      "227\n",
      "129\n",
      "147\n",
      "227\n",
      "129\n",
      "139\n",
      "227\n",
      "130\n",
      "137\n",
      "229\n",
      "167\n",
      "139\n",
      "227\n",
      "130\n",
      "129\n",
      "227\n",
      "129\n",
      "190\n",
      "227\n",
      "129\n",
      "153\n",
      "24 個のバイト\n"
     ]
    }
   ],
   "source": [
    "var encodedBytes = Encoding.UTF8.GetBytes(str);\n",
    "\n",
    "foreach(byte b in encodedBytes)\n",
    "{\n",
    "    //.Net では byte は 0-255 の数字で表される\n",
    "    Console.WriteLine(b);\n",
    "}\n",
    "\n",
    "Console.WriteLine($\"{encodedBytes.Length} 個のバイト\");"
   ]
  },
  {
   "cell_type": "markdown",
   "metadata": {},
   "source": [
    "この byte の羅列を UTF8 という符号化方式で文字に変換すると \"ここから始めます\" になる。\n",
    "UTF8 の場合、日本語文字は 1 文字が 3byte ~ (可変だったはず) であらわされる。 \n",
    "ちなみに符号化された文字は、よく HEX (16進数) で表されたりする。"
   ]
  },
  {
   "cell_type": "code",
   "execution_count": 27,
   "metadata": {},
   "outputs": [
    {
     "name": "stdout",
     "output_type": "stream",
     "text": [
      "ここから始めます\n",
      "E3-81-93-E3-81-93-E3-81-8B-E3-82-89-E5-A7-8B-E3-82-81-E3-81-BE-E3-81-99\n"
     ]
    }
   ],
   "source": [
    "var encodedHex = BitConverter.ToString(encodedBytes);\n",
    "\n",
    "Console.WriteLine(str);\n",
    "Console.WriteLine(encodedHex);\n"
   ]
  },
  {
   "cell_type": "markdown",
   "metadata": {},
   "source": [
    "### 2-2 シーザー暗号\n",
    "\n",
    "シーザー暗号とは、文字をずらず暗号\n",
    "\n",
    "たとえば、元のアルファベットから 3 つずらした数字が暗号だとすると、このような表になる。\n",
    "\n",
    "|a|b|c|d|e|f|g|h|i|j|k|l|m|n|o|p|q|r|s|t|u|v|w|x|y|z|\n",
    "|-|-|-|-|-|-|-|-|-|-|-|-|-|-|-|-|-|-|-|-|-|-|-|-|-|-|\n",
    "|D|E|F|G|H|I|J|K|L|M|N|O|P|Q|R|S|T|U|V|W|X|Y|Z|A|B|C|\n"
   ]
  },
  {
   "cell_type": "code",
   "execution_count": 16,
   "metadata": {},
   "outputs": [
    {
     "name": "stdout",
     "output_type": "stream",
     "text": [
      "KHOORZRUOG\n"
     ]
    }
   ],
   "source": [
    "//小文字の平文\n",
    "var plainText = \"helloworld\";\n",
    "\n",
    "//秘密鍵\n",
    "var priKey = 3;\n",
    "\n",
    "//バイト配列に変換\n",
    "var bytes = Encoding.ASCII.GetBytes(plainText);\n",
    "\n",
    "byte[] encryptedText = new byte[bytes.Length];\n",
    "\n",
    "for(var i = 0; i < bytes.Length; i++)\n",
    "{\n",
    "    //a-z を ACII 表現すると 97~122\n",
    "    //a-z を 0-25 の文字列で表現\n",
    "    var c = bytes[i]-97;\n",
    "\n",
    "    //priKey だけずらして、97足すと元の場所に\n",
    "    var enc = (c+ priKey)%26;\n",
    "    if(enc < 0)\n",
    "    {\n",
    "        enc += 26;\n",
    "    }\n",
    "    enc += 97;\n",
    "    encryptedText[i] = (byte)enc;\n",
    "}\n",
    "\n",
    "//バイト配列からデコード\n",
    "var encrypted = System.Text.Encoding.ASCII.GetString(encryptedText);\n",
    "\n",
    "Console.WriteLine(encrypted.ToUpper());"
   ]
  },
  {
   "cell_type": "code",
   "execution_count": 126,
   "metadata": {},
   "outputs": [
    {
     "name": "stdout",
     "output_type": "stream",
     "text": [
      "helloworld\n"
     ]
    }
   ],
   "source": [
    "//復号は逆に戻すだけ\n",
    "var plainText = \"KHOORZRUOG\";\n",
    "\n",
    "//マイナスにすれば OK\n",
    "var priKey = -3;\n",
    "\n",
    "//小文字にしてからバイト配列に変換\n",
    "var bytes = Encoding.ASCII.GetBytes(plainText.ToLower());\n",
    "\n",
    "byte[] encryptedText = new byte[bytes.Length];\n",
    "\n",
    "for(var i = 0; i < bytes.Length; i++)\n",
    "{\n",
    "    //a-z を ACII 表現すると 97~122\n",
    "    //a-z を 0-25 の文字列で表現\n",
    "    var c = bytes[i]-97;\n",
    "\n",
    "    //priKey だけずらして、97足すと元の場所に\n",
    "    var enc = (c+ priKey)%26;\n",
    "    if(enc < 0)\n",
    "    {\n",
    "        enc += 26;\n",
    "    }\n",
    "    enc += 97;\n",
    "    encryptedText[i] = (byte)enc;\n",
    "}\n",
    "\n",
    "//バイト配列からデコード\n",
    "var encrypted = System.Text.Encoding.ASCII.GetString(encryptedText);\n",
    "\n",
    "Console.WriteLine(encrypted);"
   ]
  },
  {
   "cell_type": "markdown",
   "metadata": {},
   "source": [
    "クラスにしてみる。"
   ]
  },
  {
   "cell_type": "code",
   "execution_count": 17,
   "metadata": {},
   "outputs": [
    {
     "name": "stdout",
     "output_type": "stream",
     "text": [
      "KHOOR ZRUOG\n",
      "hello world\n"
     ]
    }
   ],
   "source": [
    "using System;\n",
    "public static class ROT\n",
    "{\n",
    "  public static string Encrypt(string plainText, int priKey)\n",
    "  {\n",
    "    if(plainText == null)\n",
    "    {\n",
    "        throw new ArgumentNullException(\"plainText should not be null\");\n",
    "    }\n",
    "    var bytes = Encoding.ASCII.GetBytes(plainText);\n",
    "\n",
    "    byte[] encryptedText = new byte[bytes.Length];\n",
    "\n",
    "    for(var i = 0; i < bytes.Length; i++)\n",
    "    {\n",
    "        if(bytes[i] < 97 || 122 <bytes[i])\n",
    "        {\n",
    "            //小文字のアルファベット以外は変換しない\n",
    "            encryptedText[i] = bytes[i];\n",
    "        } else {\n",
    "            //a-z を ACII 表現すると 97~122\n",
    "            //a-z を 0-25 の文字列で表現\n",
    "            var c = bytes[i]-97;\n",
    "\n",
    "            //priKey だけずらして、97足すと元の場所に\n",
    "            var enc = (c+ priKey)%26;\n",
    "            if(enc < 0)\n",
    "            {\n",
    "                enc += 26;\n",
    "            }\n",
    "            enc += 97;\n",
    "            encryptedText[i] = (byte)enc;\n",
    "        }\n",
    "    }\n",
    "    //バイト配列からデコード\n",
    "    var encrypted = System.Text.Encoding.ASCII.GetString(encryptedText);\n",
    "    return encrypted.ToUpper();\n",
    "  }\n",
    "  public static string Decrypt(string encrypted, int key)\n",
    "  {\n",
    "      return ROT.Encrypt(encrypted.ToLower(), -key).ToLower();\n",
    "  }\n",
    "}\n",
    "\n",
    "var enc = ROT.Encrypt(\"hello world\", 3);\n",
    "Console.WriteLine(enc);\n",
    "var dec = ROT.Decrypt(enc, 3);\n",
    "Console.WriteLine(dec);\n"
   ]
  },
  {
   "cell_type": "markdown",
   "metadata": {},
   "source": [
    "#### 問題: KZDVWCZVJCZBVRERIFN を解読する"
   ]
  },
  {
   "cell_type": "code",
   "execution_count": 19,
   "metadata": {},
   "outputs": [
    {
     "name": "stdout",
     "output_type": "stream",
     "text": [
      "-1\n",
      "0 kzdvwczvjczbvrerifn\n",
      "1 jycuvbyuibyauqdqhem\n",
      "2 ixbtuaxthaxztpcpgdl\n",
      "3 hwastzwsgzwysobofck\n",
      "4 gvzrsyvrfyvxrnanebj\n",
      "5 fuyqrxuqexuwqmzmdai\n",
      "6 etxpqwtpdwtvplylczh\n",
      "7 dswopvsocvsuokxkbyg\n",
      "8 crvnournburtnjwjaxf\n",
      "9 bqumntqmatqsmivizwe\n",
      "10 aptlmsplzsprlhuhyvd\n",
      "11 zosklrokyroqkgtgxuc\n",
      "12 ynrjkqnjxqnpjfsfwtb\n",
      "13 xmqijpmiwpmoierevsa\n",
      "14 wlphiolhvolnhdqdurz\n",
      "15 vkoghnkgunkmgcpctqy\n",
      "16 ujnfgmjftmjlfbobspx\n",
      "17 timeflieslikeanarow\n",
      "18 shldekhdrkhjdzmzqnv\n",
      "19 rgkcdjgcqjgicylypmu\n",
      "20 qfjbcifbpifhbxkxolt\n",
      "21 peiabheaohegawjwnks\n",
      "22 odhzagdzngdfzvivmjr\n",
      "23 ncgyzfcymfceyuhuliq\n",
      "24 mbfxyebxlebdxtgtkhp\n",
      "25 laewxdawkdacwsfsjgo\n"
     ]
    }
   ],
   "source": [
    "var encrypted = \"KZDVWCZVJCZBVRERIFN\";\n",
    "\n",
    "Console.WriteLine(-1%26);\n",
    "for(var i=0; i < 26; i++)\n",
    "{\n",
    "    Console.WriteLine($\"{i} {ROT.Decrypt(encrypted,i)}\");\n",
    "}"
   ]
  },
  {
   "cell_type": "markdown",
   "metadata": {},
   "source": [
    "### 2-4 スキュタレー暗号\n",
    "\n",
    "帯に巻き付けた紙に、別の角度から書き込むことで暗号化\n",
    "\n",
    "紙を巻き付けて別の角度から読むことで、復号する"
   ]
  },
  {
   "cell_type": "code",
   "execution_count": 79,
   "metadata": {},
   "outputs": [
    {
     "name": "stdout",
     "output_type": "stream",
     "text": [
      "akademeia  //平文\n",
      "akademeiab  //パディングされた平文\n",
      "aeakmbaedi  //暗号文\n",
      "aamadekbei  //復号\n"
     ]
    }
   ],
   "source": [
    "using System.Text;\n",
    "\n",
    "Console.WriteLine($\"{plainText}  //平文\");\n",
    "\n",
    "//暗号用の円周の長さ\n",
    "var c = 4;\n",
    "\n",
    "//パディングの長さ\n",
    "var paddingLength = plainText.Length % c;\n",
    "\n",
    "const string alphabets = \"abcdefghijklmnopqrstuvwxyz\";\n",
    "\n",
    "static public string GenerateRandomAlphabets(int length)\n",
    "{\n",
    "    var r = new Random();\n",
    "    var sb = new StringBuilder();\n",
    "    for(var i = 0; i < length; i++){\n",
    "       sb.Append(alphabets[r.Next(alphabets.Length)]); \n",
    "    }\n",
    "    return sb.ToString();\n",
    "}\n",
    "\n",
    "var padding = GenerateRandomAlphabets(paddingLength);\n",
    "\n",
    "var plainTextPadding = plainText + padding;\n",
    "\n",
    "Console.WriteLine($\"{plainTextPadding}  //パディングされた平文\");\n",
    "\n",
    "//横に3回読む\n",
    "var encrypted = new StringBuilder();\n",
    "for(var i = 0; i < c; i++)\n",
    "{\n",
    "    //3つ飛ばしで文字を出力する\n",
    "    for(var j = 0; j + i < plainTextPadding.Length; j+=c)\n",
    "    {\n",
    "        var c = plainTextPadding[j+i];\n",
    "        encrypted.Append(c);\n",
    "    }\n",
    "}\n",
    "\n",
    "Console.WriteLine($\"{encrypted.ToString()}  //暗号文\");\n",
    "\n",
    "//復号は文字の長さを円柱で割った数分とばして読む\n",
    "var encyptedLineLength = encrypted.Length / c;\n",
    "\n",
    "var decrypted = new StringBuilder();\n",
    "for(var i = 0; i < encyptedLineLength; i++)\n",
    "{\n",
    "    for(var j = 0; j + i < plainTextPadding.Length; j+=encyptedLineLength)\n",
    "    {\n",
    "        var c = encrypted[j+i];\n",
    "        decrypted.Append(c);\n",
    "    }\n",
    "}\n",
    "\n",
    "Console.WriteLine($\"{decrypted.ToString()}  //復号\");\n",
    "\n",
    "\n"
   ]
  },
  {
   "cell_type": "markdown",
   "metadata": {},
   "source": [
    "### 2-5 転置式暗号\n",
    "\n",
    "スキュレター暗号は、文字を並び替える暗号。より一般化すると、転地式暗号と呼ばれる。\n",
    "あるブロックごとに分けられた文字列を、並び替えて暗号文にする。\n",
    "\n",
    "ナポレオンの暗号文"
   ]
  },
  {
   "cell_type": "code",
   "execution_count": 73,
   "metadata": {},
   "outputs": [
    {
     "name": "stdout",
     "output_type": "stream",
     "text": [
      "kadameiea  //暗号文\n"
     ]
    }
   ],
   "source": [
    "var plainText = \"akademeia\";\n",
    "var encrypted = new StringBuilder();\n",
    "for(var i = 0; i < plainText.Length; i += 2)\n",
    "{\n",
    "    if(i + 1 < plainText.Length)\n",
    "    {\n",
    "        encrypted.Append(plainText[i+1]);\n",
    "    }\n",
    "    encrypted.Append(plainText[i]);\n",
    "}\n",
    "\n",
    "Console.WriteLine($\"{encrypted.ToString()}  //暗号文\")\n"
   ]
  },
  {
   "cell_type": "markdown",
   "metadata": {},
   "source": [
    "### 2-6 単一換字式暗号\n",
    "\n",
    "文字を全く違い記号や文字に置換して変換する。表したい文字と同じだけの長さの暗号鍵が必要。"
   ]
  },
  {
   "cell_type": "code",
   "execution_count": 124,
   "metadata": {},
   "outputs": [
    {
     "name": "stdout",
     "output_type": "stream",
     "text": [
      "dydoxlxpd //暗号文\n",
      "akademeia //復号\n"
     ]
    }
   ],
   "source": [
    "var plainText = \"akademeia\";\n",
    "\n",
    "const string alphabets = \"abcdefghijklmnopqrstuvwxyz\";\n",
    "const string sigma = \"dicoxvutpayqlhbgswrfzmenkj\";\n",
    "\n",
    "var encrypted = new StringBuilder();\n",
    "for(var i = 0; i < plainText.Length; i++)\n",
    "{\n",
    "    var num = Array.FindIndex(alphabets.ToArray(), c => c == plainText[i]);\n",
    "   encrypted.Append(sigma[num]);\n",
    "}\n",
    "\n",
    "Console.WriteLine($\"{encrypted.ToString()} //暗号文\");\n",
    "\n",
    "//戻すには同じ暗号かぎで逆操作する。\n",
    "\n",
    "var encryptedText = encrypted.ToString();\n",
    "\n",
    "var decrypted = new StringBuilder();\n",
    "for(var i = 0; i < encryptedText.Length; i++)\n",
    "{\n",
    "    var num = Array.FindIndex(sigma.ToArray(), c => c == encryptedText[i]);\n",
    "    decrypted.Append(alphabets[num]);\n",
    "}\n",
    "\n",
    "Console.WriteLine($\"{decrypted.ToString()} //復号\");"
   ]
  }
 ],
 "metadata": {
  "kernelspec": {
   "display_name": ".NET (C#)",
   "language": "C#",
   "name": ".net-csharp"
  },
  "language_info": {
   "file_extension": ".cs",
   "mimetype": "text/x-csharp",
   "name": "C#",
   "pygments_lexer": "csharp",
   "version": "8.0"
  }
 },
 "nbformat": 4,
 "nbformat_minor": 4
}
