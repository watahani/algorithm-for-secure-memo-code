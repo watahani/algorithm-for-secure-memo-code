{
 "cells": [
  {
   "cell_type": "markdown",
   "metadata": {},
   "source": [
    "# 暗号入門\n",
    "\n",
    "## 古典暗号を C# で実装してみる\n",
    "\n",
    "### 準備\n",
    "\n",
    "C# のコードを追加します。"
   ]
  },
  {
   "cell_type": "markdown",
   "metadata": {},
   "source": [
    "Console.WriteLine(\"ここから始めます\")"
   ]
  },
  {
   "cell_type": "markdown",
   "metadata": {},
   "source": [
    "### シーザー暗号\n",
    "\n",
    "シーザー暗号とは、文字をずらず暗号\n",
    "\n",
    "|a|b|c|d|e|f|g|h|i|j|k|l|m|n|o|p|q|r|s|t|u|v|w|x|y|z|\n",
    "|-|-|-|-|-|-|-|-|-|-|-|-|-|-|-|-|-|-|-|-|-|-|-|-|-|-|\n",
    "|D|E|F|G|H|I|J|K|L|M|N|O|P|Q|R|S|T|U|V|W|X|Y|Z|A|B|C|\n"
   ]
  },
  {
   "cell_type": "code",
   "execution_count": 53,
   "metadata": {},
   "outputs": [
    {
     "name": "stdout",
     "output_type": "stream",
     "text": [
      "KHOORZRUOG\n"
     ]
    }
   ],
   "source": [
    "//小文字の暗号化文字\n",
    "var plainText = \"helloworld\";\n",
    "\n",
    "var priKey = 3;\n",
    "\n",
    "//バイト配列に変換\n",
    "var bytes = Encoding.ASCII.GetBytes(plainText);\n",
    "\n",
    "byte[] encryptedText = new byte[bytes.Length];\n",
    "\n",
    "for(var i = 0; i < bytes.Length; i++)\n",
    "{\n",
    "    //a-z を ACII 表現すると 97~122\n",
    "    //a-z を 0-25 の文字列で表現\n",
    "    var c = bytes[i]-97;\n",
    "\n",
    "    //priKey だけずらして、97足すと元の場所に\n",
    "    var enc = (c+ priKey)%26;\n",
    "    if(enc < 0)\n",
    "    {\n",
    "        enc += 26;\n",
    "    }\n",
    "    enc += 97;\n",
    "    encryptedText[i] = (byte)enc;\n",
    "}\n",
    "\n",
    "//バイト配列から復号\n",
    "var encrypted = System.Text.Encoding.UTF8.GetString(encryptedText);\n",
    "\n",
    "Console.WriteLine(encrypted.ToUpper());"
   ]
  },
  {
   "cell_type": "code",
   "execution_count": 56,
   "metadata": {},
   "outputs": [
    {
     "name": "stdout",
     "output_type": "stream",
     "text": [
      "helloworld\n"
     ]
    }
   ],
   "source": [
    "//小復号は逆に戻すだけ\n",
    "var plainText = \"khoorzruog\";\n",
    "\n",
    "//マイナスにすれば OK\n",
    "var priKey = -3;\n",
    "\n",
    "//バイト配列に変換\n",
    "var bytes = Encoding.ASCII.GetBytes(plainText);\n",
    "\n",
    "byte[] encryptedText = new byte[bytes.Length];\n",
    "\n",
    "for(var i = 0; i < bytes.Length; i++)\n",
    "{\n",
    "    //a-z を ACII 表現すると 97~122\n",
    "    //a-z を 0-25 の文字列で表現\n",
    "    var c = bytes[i]-97;\n",
    "\n",
    "    //priKey だけずらして、97足すと元の場所に\n",
    "    var enc = (c+ priKey)%26;\n",
    "    if(enc < 0)\n",
    "    {\n",
    "        enc += 26;\n",
    "    }\n",
    "    enc += 97;\n",
    "    encryptedText[i] = (byte)enc;\n",
    "}\n",
    "\n",
    "//バイト配列から復号\n",
    "var encrypted = System.Text.Encoding.UTF8.GetString(encryptedText);\n",
    "\n",
    "Console.WriteLine(encrypted);"
   ]
  },
  {
   "cell_type": "markdown",
   "metadata": {},
   "source": [
    "クラスにしてみる。"
   ]
  },
  {
   "cell_type": "code",
   "execution_count": 57,
   "metadata": {},
   "outputs": [
    {
     "name": "stdout",
     "output_type": "stream",
     "text": [
      "KHOOR ZRUOG\n",
      "hello world\n"
     ]
    }
   ],
   "source": [
    "using System;\n",
    "public static class ROT\n",
    "{\n",
    "  public static string Encrypto(string plainText, int priKey)\n",
    "  {\n",
    "    if(plainText == null)\n",
    "    {\n",
    "        throw new ArgumentNullException(\"plainText should not be null\");\n",
    "    }\n",
    "    var bytes = Encoding.ASCII.GetBytes(plainText);\n",
    "\n",
    "    byte[] encryptedText = new byte[bytes.Length];\n",
    "\n",
    "    for(var i = 0; i < bytes.Length; i++)\n",
    "    {\n",
    "        if(bytes[i] < 97 || 122 <bytes[i])\n",
    "        {\n",
    "            //小文字のアルファベット以外は変換しない\n",
    "            encryptedText[i] = bytes[i];\n",
    "        } else {\n",
    "            //a-z を ACII 表現すると 97~122\n",
    "            //a-z を 0-25 の文字列で表現\n",
    "            var c = bytes[i]-97;\n",
    "\n",
    "            //priKey だけずらして、97足すと元の場所に\n",
    "            var enc = (c+ priKey)%26;\n",
    "            if(enc < 0)\n",
    "            {\n",
    "                enc += 26;\n",
    "            }\n",
    "            enc += 97;\n",
    "            encryptedText[i] = (byte)enc;\n",
    "        }\n",
    "    }\n",
    "    //バイト配列から復号\n",
    "    var encrypted = System.Text.Encoding.UTF8.GetString(encryptedText);\n",
    "    return encrypted.ToUpper();\n",
    "  }\n",
    "  public static string Decrypto(string encrypted, int key)\n",
    "  {\n",
    "      return ROT.Encrypto(encrypted.ToLower(), -key).ToLower();\n",
    "  }\n",
    "}\n",
    "\n",
    "var enc = ROT.Encrypto(\"hello world\", 3);\n",
    "Console.WriteLine(enc);\n",
    "var dec = ROT.Decrypto(enc, 3);\n",
    "Console.WriteLine(dec);\n"
   ]
  },
  {
   "cell_type": "markdown",
   "metadata": {},
   "source": [
    "#### 問題: KZDVWCZVJCZBVRERIFN を解読する"
   ]
  },
  {
   "cell_type": "code",
   "execution_count": 63,
   "metadata": {},
   "outputs": [
    {
     "name": "stdout",
     "output_type": "stream",
     "text": [
      "-1\n",
      "0 kzdvwczvjczbvrerifn\n",
      "1 jycuvbyuibyauqdqhem\n",
      "2 ixbtuaxthaxztpcpgdl\n",
      "3 hwastzwsgzwysobofck\n",
      "4 gvzrsyvrfyvxrnanebj\n",
      "5 fuyqrxuqexuwqmzmdai\n",
      "6 etxpqwtpdwtvplylczh\n",
      "7 dswopvsocvsuokxkbyg\n",
      "8 crvnournburtnjwjaxf\n",
      "9 bqumntqmatqsmivizwe\n",
      "10 aptlmsplzsprlhuhyvd\n",
      "11 zosklrokyroqkgtgxuc\n",
      "12 ynrjkqnjxqnpjfsfwtb\n",
      "13 xmqijpmiwpmoierevsa\n",
      "14 wlphiolhvolnhdqdurz\n",
      "15 vkoghnkgunkmgcpctqy\n",
      "16 ujnfgmjftmjlfbobspx\n",
      "17 timeflieslikeanarow\n",
      "18 shldekhdrkhjdzmzqnv\n",
      "19 rgkcdjgcqjgicylypmu\n",
      "20 qfjbcifbpifhbxkxolt\n",
      "21 peiabheaohegawjwnks\n",
      "22 odhzagdzngdfzvivmjr\n",
      "23 ncgyzfcymfceyuhuliq\n",
      "24 mbfxyebxlebdxtgtkhp\n",
      "25 laewxdawkdacwsfsjgo\n"
     ]
    }
   ],
   "source": [
    "var encrypted = \"KZDVWCZVJCZBVRERIFN\";\n",
    "\n",
    "Console.WriteLine(-1%26);\n",
    "for(var i=0; i < 26; i++)\n",
    "{\n",
    "    Console.WriteLine($\"{i} {ROT.Decrypto(encrypted,i)}\");\n",
    "}"
   ]
  }
 ],
 "metadata": {
  "kernelspec": {
   "display_name": ".NET (C#)",
   "language": "C#",
   "name": ".net-csharp"
  },
  "language_info": {
   "file_extension": ".cs",
   "mimetype": "text/x-csharp",
   "name": "C#",
   "pygments_lexer": "csharp",
   "version": "8.0"
  }
 },
 "nbformat": 4,
 "nbformat_minor": 4
}
