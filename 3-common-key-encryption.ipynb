{
 "cells": [
  {
   "cell_type": "markdown",
   "metadata": {},
   "source": [
    "# 共通鍵暗号\n",
    "\n",
    "送信者と受信者が共通の鍵を利用し、暗号通信を行う\n",
    "\n",
    "暗号文を同一のキーで復号すると、平文に戻る。\n",
    "\n",
    "$$\n",
    "    m = Dec(key, Enc(key, m))\n",
    "$$\n",
    "\n",
    "## 符号化\n",
    "\n",
    "基本的には文字やデータはバイト配列にしてから暗号化する。\n",
    "\n",
    "## バーナム暗号\n",
    "\n",
    "最強の暗号かつシンプルなため処理が速い、しかし鍵配送の問題により効率は非常に悪い。\n",
    "\n",
    "### 排他論理和\n",
    "\n",
    "|a|b|a $\\oplus$ b|\n",
    "|---|---|---|\n",
    "|0|0|0|\n",
    "|0|1|1|\n",
    "|1|0|1|\n",
    "|1|1|0|\n",
    "\n",
    "https://docs.microsoft.com/ja-jp/dotnet/csharp/language-reference/operators/bitwise-and-shift-operators\n"
   ]
  },
  {
   "cell_type": "code",
   "execution_count": 4,
   "metadata": {},
   "outputs": [
    {
     "name": "stdout",
     "output_type": "stream",
     "text": [
      "0\n"
     ]
    }
   ],
   "source": [
    "uint a = 0b_0000_0001;\n",
    "uint b = 0b_0000_0001;\n",
    "uint c = a ^ b; //排他論理和\n",
    "Console.WriteLine(Convert.ToString(c, toBase: 2));"
   ]
  },
  {
   "cell_type": "markdown",
   "metadata": {},
   "source": [
    "鍵を生成して暗号化する。"
   ]
  },
  {
   "cell_type": "code",
   "execution_count": 44,
   "metadata": {},
   "outputs": [
    {
     "name": "stdout",
     "output_type": "stream",
     "text": [
      "111101101100000011010101111110000000111110101110\n",
      "110001111000000111110101110001111000000111010101\n",
      "------------------------------------------------\n",
      "001100010100000100100000001111111000111001111011\n",
      "110001111000000111110101110001111000000111010101\n",
      "はに\n"
     ]
    }
   ],
   "source": [
    "public static void PrintBit(BitArray bitArr)  {\n",
    "    foreach (var b in bitArr ) {\n",
    "        if((bool)b){\n",
    "            Console.Write(\"1\");\n",
    "        } else {\n",
    "            Console.Write(\"0\");\n",
    "        }\n",
    "    }\n",
    "    Console.WriteLine();\n",
    "}\n",
    "\n",
    "var plainText = \"はに\";\n",
    "\n",
    "var encodedBytes = Encoding.UTF8.GetBytes(plainText);\n",
    "var len = encodedBytes.Length;\n",
    "\n",
    "//キー生成\n",
    "var rand = new Random();\n",
    "var k = new byte[len];\n",
    "rand.NextBytes(k);\n",
    "\n",
    "//計算のため bit Array に変換\n",
    "var key = new BitArray(k);\n",
    "var text = new BitArray(encodedBytes);\n",
    "\n",
    "PrintBit(key);\n",
    "PrintBit(text);\n",
    "\n",
    "Console.WriteLine(\"------------------------------------------------\");\n",
    "\n",
    "//暗号化\n",
    "var enc = text.Xor(key);\n",
    "PrintBit(enc);\n",
    "\n",
    "//復号\n",
    "var dec = enc.Xor(key);\n",
    "\n",
    "PrintBit(dec);\n",
    "\n",
    "var decBytes = new byte[len];\n",
    "dec.CopyTo(decBytes, 0);\n",
    "\n",
    "var decStr = System.Text.Encoding.UTF8.GetString(decBytes);\n",
    "\n",
    "Console.WriteLine(decStr);"
   ]
  },
  {
   "cell_type": "markdown",
   "metadata": {},
   "source": [
    "真にランダムな鍵で暗号化すると、完全にランダムな文字列が出力されるため、鍵を知らない限り復号が出来ない。\n",
    "1 bit の共通鍵暗号の場合…\n",
    "\n",
    "平文(m)は 1 か 0, 暗号キー(k) も 1 か 0, 暗号文(c) も 1 か 0\n",
    "\n",
    "平文の確率分布を 1: 3/4. 0: 1/4 とすると、暗号文が 0 になる確率は\n",
    "\n",
    "$$\n",
    "\\begin{eqnarray}\n",
    "Pr(C=0) &=& Pr(M=0 かつ K=0) + Pr(M=1 かつ K=1)\\\\\n",
    "        &=& Pr(M=0)Pr(K=0) + Pr(M=1)Pr(M=1)\\\\\n",
    "        &=& (3/4)(1/2) + (1/4)(1/2)\\\\\n",
    "        &=& 1/2\\\\\n",
    "\\end{eqnarray}\n",
    "$$\n",
    "\n",
    "もちろん暗号文が 1 になる確率も 1/2。つまり平文の分布に拠らずにランダムな値が暗号文として出力される。うーん…。なるほど？\n",
    "\n",
    "\n",
    "## DES\n",
    "\n",
    "\n",
    "\n"
   ]
  }
 ],
 "metadata": {
  "kernelspec": {
   "display_name": ".NET (C#)",
   "language": "C#",
   "name": ".net-csharp"
  },
  "language_info": {
   "file_extension": ".cs",
   "mimetype": "text/x-csharp",
   "name": "C#",
   "pygments_lexer": "csharp",
   "version": "8.0"
  }
 },
 "nbformat": 4,
 "nbformat_minor": 4
}
